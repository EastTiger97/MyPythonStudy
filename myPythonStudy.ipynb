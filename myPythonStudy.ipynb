{
  "nbformat": 4,
  "nbformat_minor": 0,
  "metadata": {
    "colab": {
      "provenance": [],
      "authorship_tag": "ABX9TyN1aG2Ra5Zf6mB/CB7Q1NVN",
      "include_colab_link": true
    },
    "kernelspec": {
      "name": "python3",
      "display_name": "Python 3"
    },
    "language_info": {
      "name": "python"
    }
  },
  "cells": [
    {
      "cell_type": "markdown",
      "metadata": {
        "id": "view-in-github",
        "colab_type": "text"
      },
      "source": [
        "<a href=\"https://colab.research.google.com/github/EastTiger97/MyPythonStudy/blob/main/myPythonStudy.ipynb\" target=\"_parent\"><img src=\"https://colab.research.google.com/assets/colab-badge.svg\" alt=\"Open In Colab\"/></a>"
      ]
    },
    {
      "cell_type": "markdown",
      "source": [
        "# 1.파이썬 소개\n",
        "- ## 파이썬의 역사와 특징\n",
        "\n",
        "파이썬은 귀도 반 로섬(Guido van Rossum)이 1989년 크리스마스 휴가 기간 동안 개발한 프로그래밍 언어입니다. 파이썬이라는 이름은 귀도가 좋아하는 코미디 프로그램인 'Monty Python's Flying Circus'에서 유래되었습니다.\n",
        "\n",
        "1. **읽기 쉬운 문법**: 간결하고 가독성이 좋은 문법을 제공하여 코드 작성 및 이해가 쉽습니다.\n",
        "\n",
        "2. **동적 타이핑**: 변수의 타입을 명시적으로 선언하지 않아도 되며, 실행 시점에 자동으로 결정됩니다.\n",
        "\n",
        "3. **객체지향 프로그래밍**: 클래스와 객체를 지원하여 코드를 구조화하고 재사용성을 높일 수 있습니다.\n",
        "\n",
        "4. **인터프리터 언어**: 인터프리터를 통해 소스 코드를 바로 실행할 수 있어 개발과 디버깅이 편리합니다.\n",
        "\n",
        "5. **풍부한 표준 라이브러리**: 다양한 기능을 제공하는 표준 라이브러리가 포함되어 있어 데이터 처리, 네트워킹, 웹 개발 등을 쉽게 수행할 수 있습니다.\n",
        "\n",
        "6. **다양한 응용 분야**: 웹 개발, 데이터 분석, 인공지능 및 기계 학습, 자동화 및 시스템 관리 등 다양한 분야에서 활용됩니다.\n",
        "\n",
        "7. **활발한 개발자 커뮤니티**: 활발한 개발자 커뮤니티를 통해 지속적인 발전이 이루어지며, 다양한 지원 및 라이브러리가 제공됩니다.\n",
        "\n",
        "\n",
        "- ## 파이썬의 장점과 용도\n",
        "\n",
        "파이썬은 다음과 같은 장점과 다양한 용도를 가지고 있습니다:\n",
        "\n",
        "1. **읽기 쉬운 문법**: 파이썬은 간결하고 읽기 쉬운 문법을 가지고 있어 쉽게 배우고 사용할 수 있습니다. 이는 새로운 개발자들이 빠르게 파이썬을 익히고, 기존의 코드를 이해하기 쉽게 만듭니다.\n",
        "\n",
        "2. **다양한 용도**: 파이썬은 다양한 분야에서 활용됩니다. 웹 개발, 데이터 분석, 인공지능 및 기계 학습, 자동화 및 시스템 관리 등 다양한 용도로 사용됩니다.\n",
        "\n",
        "3. **풍부한 라이브러리**: 파이썬은 풍부한 표준 라이브러리와 외부 패키지 생태계를 가지고 있습니다. 이러한 라이브러리들은 데이터 처리, 네트워킹, 웹 개발, 과학 및 수학적 계산, 이미지 처리 등 다양한 작업을 쉽게 수행할 수 있도록 도와줍니다.\n",
        "\n",
        "4. **크로스 플랫폼 지원**: 파이썬은 윈도우, macOS, 리눅스 등 다양한 운영 체제에서 동작합니다. 따라서 동일한 코드를 여러 플랫폼에서 실행할 수 있어 개발자에게 유용합니다.\n",
        "\n",
        "5. **빠른 개발**: 파이썬은 코드를 빠르게 작성하고 테스트할 수 있도록 도와줍니다. 이는 개발 생산성을 향상시키고 프로토타입을 빠르게 구현할 수 있게 합니다.\n",
        "\n",
        "6. **커뮤니티와 지원**: 파이썬은 활발한 개발자 커뮤니티를 가지고 있어 문제 해결에 도움을 받을 수 있으며, 다양한 오픈 소스 프로젝트와 지원 자료들이 많이 제공됩니다."
      ],
      "metadata": {
        "id": "c_sbBANQIxbz"
      }
    },
    {
      "cell_type": "markdown",
      "source": [
        "# 2.파이썬 설치\n",
        "\n",
        "### Windows에서의 설치\n",
        "\n",
        "1. **공식 웹사이트에서 다운로드**: https://www.python.org/downloads/ 에서 최신 버전의 파이썬 설치 파일을 다운로드합니다.\n",
        "2. **설치 프로그램 실행**: 다운로드한 설치 파일을 실행하고, 설치 프로세스를 따릅니다.\n",
        "3. **환경 변수 설정 (선택사항)**: 설치 도중 \"Add Python to PATH\" 옵션을 체크하면 파이썬 실행 파일이 자동으로 환경 변수에 추가됩니다. 이를 통해 명령 프롬프트에서 파이썬을 실행할 수 있습니다.\n",
        "\n",
        "### macOS에서의 설치\n",
        "\n",
        "1. **Homebrew 사용 (권장)**: 터미널을 열고 다음 명령을 실행하여 Homebrew를 사용하여 파이썬을 설치합니다.\n"
      ],
      "metadata": {
        "id": "esCzmoEgKtmv"
      }
    },
    {
      "cell_type": "code",
      "source": [
        "/bin/bash -c \"$(curl -fsSL https://raw.githubusercontent.com/Homebrew/install/HEAD/install.sh)\"\n",
        "brew install python"
      ],
      "metadata": {
        "id": "p4CV7F1eLaxt"
      },
      "execution_count": null,
      "outputs": []
    },
    {
      "cell_type": "markdown",
      "source": [
        "2. **공식 웹사이트에서 다운로드**: https://www.python.org/downloads/ 에서 macOS용 최신 버전의 파이썬 설치 파일을 다운로드하여 설치합니다.\n",
        "\n",
        "### Linux에서의 설치\n",
        "\n",
        "1. **패키지 관리자 사용**: 대부분의 리눅스 배포판에는 기본적으로 파이썬이 설치되어 있습니다. 그렇지 않은 경우, 패키지 관리자를 사용하여 설치합니다. 예를 들어, Ubuntu 또는 Debian 계열의 배포판에서는 다음 명령을 사용합니다."
      ],
      "metadata": {
        "id": "xP82rdv9Lduk"
      }
    },
    {
      "cell_type": "code",
      "source": [
        "    sudo apt update\n",
        "    sudo apt install python3"
      ],
      "metadata": {
        "id": "CICLEc9RMHjY"
      },
      "execution_count": null,
      "outputs": []
    },
    {
      "cell_type": "markdown",
      "source": [
        "2. **소스 코드에서 직접 빌드**: 공식 웹사이트에서 소스 코드를 다운로드하여 직접 빌드할 수도 있습니다. 하지만 이 방법은 일반적으로 권장되지 않습니다."
      ],
      "metadata": {
        "id": "UQHemSO0MOBI"
      }
    },
    {
      "cell_type": "markdown",
      "source": [
        "# 3.가상환경 설정 (선택 사항)\n",
        "\n",
        "가상환경(Virtual Environment)을 설정하는 것은 파이썬 프로젝트를 진행할 때 권장되는 방법 중 하나입니다. 가상환경을 사용하면 각각의 프로젝트마다 독립적인 환경을 구성하여 프로젝트 간의 의존성 충돌을 방지하고, 프로젝트의 종속성을 관리할 수 있습니다. 아래는 가상환경을 설정하는 방법입니다:\n",
        "\n",
        "### 1. 가상환경 생성\n",
        "\n",
        "가상환경을 생성하기 위해 터미널 또는 명령 프롬프트에서 프로젝트 디렉토리로 이동한 후 다음 명령을 실행합니다:\n",
        "\n"
      ],
      "metadata": {
        "id": "KJQ9-gyPOdhh"
      }
    },
    {
      "cell_type": "code",
      "source": [
        "# macOS 및 Linux\n",
        "python3 -m venv myenv\n",
        "\n",
        "# Windows\n",
        "python -m venv myenv"
      ],
      "metadata": {
        "id": "xPvpM-IzOqpD"
      },
      "execution_count": null,
      "outputs": []
    },
    {
      "cell_type": "markdown",
      "source": [
        "위 명령에서 `myenv`는 가상환경의 이름입니다. 이 명령은 현재 디렉토리에 `myenv`라는 이름의 가상환경을 생성합니다.\n",
        "\n",
        "### 2. 가상환경 활성화\n",
        "\n",
        "가상환경을 생성한 후에는 활성화하여 사용해야 합니다. 활성화된 가상환경에서는 해당 가상환경에 설치된 패키지들만 사용할 수 있습니다. 다음 명령을 사용하여 가상환경을 활성화합니다:"
      ],
      "metadata": {
        "id": "u2to0ZpUOstW"
      }
    },
    {
      "cell_type": "code",
      "source": [
        "# macOS 및 Linux\n",
        "source myenv/bin/activate\n",
        "\n",
        "# Windows\n",
        "myenv\\Scripts\\activate"
      ],
      "metadata": {
        "id": "JHJ5NPPkOvRD"
      },
      "execution_count": null,
      "outputs": []
    },
    {
      "cell_type": "markdown",
      "source": [
        "### 3. 가상환경 사용\n",
        "\n",
        "가상환경이 활성화된 상태에서는 해당 가상환경에 파이썬 및 패키지를 설치하고 사용할 수 있습니다. 필요한 패키지를 설치하려면 `pip` 명령을 사용하면 됩니다. 예를 들어:"
      ],
      "metadata": {
        "id": "Ii1QiBmPO1jH"
      }
    },
    {
      "cell_type": "code",
      "source": [
        "pip install 패키지이름"
      ],
      "metadata": {
        "id": "uWUus9gkO3o8"
      },
      "execution_count": null,
      "outputs": []
    },
    {
      "cell_type": "markdown",
      "source": [
        "### 4. 가상환경 비활성화\n",
        "\n",
        "가상환경을 사용한 후에는 작업을 마치고 나면 가상환경을 비활성화해야 합니다. 다음 명령을 사용하여 가상환경을 비활성화합니다:"
      ],
      "metadata": {
        "id": "6Kq-v4CPO6mB"
      }
    },
    {
      "cell_type": "code",
      "source": [
        "deactivate"
      ],
      "metadata": {
        "id": "uMSypbZ4O8wE"
      },
      "execution_count": null,
      "outputs": []
    },
    {
      "cell_type": "markdown",
      "source": [
        "가상환경을 설정하면 각각의 프로젝트마다 독립적인 환경을 구성하여 프로젝트 간의 의존성 충돌을 방지할 수 있습니다. 가상환경 설정은 선택 사항이지만, 파이썬 프로젝트를 진행할 때 권장되는 방법 중 하나입니다."
      ],
      "metadata": {
        "id": "blxRdf2TO-u3"
      }
    },
    {
      "cell_type": "markdown",
      "source": [
        "# 4.변수와 자료형\n",
        "\n",
        "### 변수 (Variable)\n",
        "\n",
        "변수는 값을 저장하는데 사용되는 이름이며, 해당 값은 프로그램의 실행 중에 변경될 수 있습니다. 파이썬에서 변수를 정의할 때는 `변수명 = 값` 형태로 사용합니다. 예를 들어:"
      ],
      "metadata": {
        "id": "YqOGQZlSPLhV"
      }
    },
    {
      "cell_type": "code",
      "source": [
        "x = 10\n",
        "name = \"John\""
      ],
      "metadata": {
        "id": "KFBoICZrPacQ"
      },
      "execution_count": null,
      "outputs": []
    },
    {
      "cell_type": "markdown",
      "source": [
        "위의 코드에서 `x`와 `name`은 변수이고, 각각 정수 값 10과 문자열 \"John\"을 저장합니다.\n",
        "\n",
        "### 자료형 (Data Types)\n",
        "\n",
        "자료형은 변수가 저장하는 데이터의 종류를 나타냅니다. 파이썬은 다양한 기본 자료형을 제공합니다. 주요 자료형은 다음과 같습니다:\n",
        "\n",
        "1. **정수형 (Integer)**: 정수를 나타내는 자료형입니다. 예를 들어, `x = 10`과 같이 정수를 할당할 때 사용됩니다.\n",
        "   \n",
        "2. **부동소수점형 (Float)**: 실수를 나타내는 자료형입니다. 예를 들어, `y = 3.14`와 같이 실수를 할당할 때 사용됩니다.\n",
        "\n",
        "3. **문자열 (String)**: 문자의 시퀀스를 나타내는 자료형입니다. 작은 따옴표('')나 큰 따옴표(\"\")로 감싸서 표현됩니다. 예를 들어, `name = \"John\"`과 같이 문자열을 할당할 때 사용됩니다.\n",
        "\n",
        "4. **불리언 (Boolean)**: 참(True) 또는 거짓(False)을 나타내는 자료형입니다. 예를 들어, `is_valid = True`와 같이 불리언 값을 할당할 때 사용됩니다.\n",
        "\n",
        "5. **리스트 (List)**: 여러 값을 순서대로 저장하는 자료형입니다. 대괄호([])를 사용하여 표현되며, 각 값은 쉼표(,)로 구분됩니다. 예를 들어, `numbers = [1, 2, 3, 4, 5]`와 같이 사용됩니다.\n",
        "\n",
        "6. **튜플 (Tuple)**: 리스트와 유사하지만 변경할 수 없는(Immutable) 자료형입니다. 소괄호(())를 사용하여 표현되며, 각 값은 쉼표(,)로 구분됩니다. 예를 들어, `point = (10, 20)`와 같이 사용됩니다.\n",
        "\n",
        "7. **딕셔너리 (Dictionary)**: 키(key)와 값(value)의 쌍으로 데이터를 저장하는 자료형입니다. 중괄호({})를 사용하여 표현되며, 각 쌍은 콜론(:)으로 구분되고, 각 쌍은 쉼표(,)로 구분됩니다. 예를 들어, `person = {'name': 'John', 'age': 30}`와 같이 사용됩니다.\n",
        "\n",
        "8. **세트 (Set)**: 중복되지 않는 값을 가지는 자료형입니다. 중괄호({})를 사용하여 표현되며, 각 값은 쉼표(,)로 구분됩니다. 예를 들어, `unique_numbers = {1, 2, 3, 4, 5}`와 같이 사용됩니다."
      ],
      "metadata": {
        "id": "6D3N2GWMPi4-"
      }
    },
    {
      "cell_type": "markdown",
      "source": [
        "# 5.연산자\n",
        "\n",
        "- **산술 연산자(Arithmetic Operators)**: 덧셈(`+`), 뺄셈(`-`), 곱셈(`*`), 나눗셈(`/`), 몫 연산(`//`), 나머지 연산(`%`), 거듭제곱(`**`) 등의 연산을 수행합니다.\n",
        "- **할당 연산자(Assignment Operators)**: 변수에 값을 할당하는 역할을 합니다. 예를 들어, `=` 연산자는 오른쪽의 값을 왼쪽의 변수에 할당합니다.\n",
        "- **비교 연산자(Comparison Operators)**: 두 값이 같은지(`==`), 같지 않은지(`!=`), 크거나 같은지(`>=`), 작거나 같은지(`<=`) 등을 비교합니다.\n",
        "- **논리 연산자(Logical Operators)**: 논리적인 연산을 수행합니다. 주로 `and`, `or`, `not` 연산자가 사용됩니다.\n",
        "- **비트 연산자(Bitwise Operators)**: 이진수로 표현된 값들 간의 비트 단위 연산을 수행합니다. `&`, `|`, `^`, `~`, `<<`, `>>` 연산자가 있습니다.\n",
        "- **멤버십 연산자(Membership Operators)**: 특정 값이 집합 또는 시퀀스에 속하는지를 확인합니다. `in`, `not in` 연산자가 있습니다.\n",
        "- **식별 연산자(Identity Operators)**: 두 변수가 동일한 객체를 가리키는지를 확인합니다. `is`, `is not` 연산자가 있습니다."
      ],
      "metadata": {
        "id": "OcnYGkkpP6BN"
      }
    },
    {
      "cell_type": "markdown",
      "source": [
        "# 6.조건문 (if, elif, else)\n",
        "\n",
        "파이썬에서는 `if`, `elif` (else if), `else` 키워드를 사용하여 조건문을 작성합니다.\n",
        "\n",
        "### 1. if 문\n",
        "\n",
        "`if` 문은 주어진 조건이 참(True)일 때 특정 코드 블록을 실행합니다."
      ],
      "metadata": {
        "id": "TXJRew8GQVny"
      }
    },
    {
      "cell_type": "code",
      "source": [
        "if 조건:\n",
        "    # 조건이 참일 때 실행되는 코드"
      ],
      "metadata": {
        "id": "4Bxp_Pc7RIGh"
      },
      "execution_count": null,
      "outputs": []
    },
    {
      "cell_type": "markdown",
      "source": [
        "### 2. if-else 문\n",
        "\n",
        "조건문은 프로그램이 특정 조건에 따라 다른 동작을 하도록 제어하는 데 사용됩니다. 파이썬에서는 `if`, `elif` (else if), `else` 키워드를 사용하여 조건문을 작성합니다.\n",
        "\n",
        "### 1. if 문\n",
        "`if` 문은 주어진 조건이 참(True)일 때 특정 코드 블록을 실행합니다."
      ],
      "metadata": {
        "id": "tWWbcRVXRMPh"
      }
    },
    {
      "cell_type": "code",
      "source": [
        "if 조건:\n",
        "    # 조건이 참일 때 실행되는 코드"
      ],
      "metadata": {
        "id": "zwM1s4eAROXs"
      },
      "execution_count": null,
      "outputs": []
    },
    {
      "cell_type": "markdown",
      "source": [
        "### 2. if-else 문\n",
        "`if-else` 문은 주어진 조건이 참일 때와 거짓(False)일 때 각각 다른 코드 블록을 실행합니다."
      ],
      "metadata": {
        "id": "PXYrWubARQ6u"
      }
    },
    {
      "cell_type": "code",
      "source": [
        "if 조건:\n",
        "    # 조건이 참일 때 실행되는 코드\n",
        "else:\n",
        "    # 조건이 거짓일 때 실행되는 코드"
      ],
      "metadata": {
        "id": "gTu23BaZRSvu"
      },
      "execution_count": null,
      "outputs": []
    },
    {
      "cell_type": "markdown",
      "source": [
        "### 3. if-elif-else 문\n",
        "`if-elif-else` 문은 여러 조건을 순차적으로 검사하고, 참인 첫 번째 조건에 해당하는 코드 블록을 실행합니다. `elif`는 else if의 줄임말입니다."
      ],
      "metadata": {
        "id": "QyeWMGHsRUpM"
      }
    },
    {
      "cell_type": "code",
      "source": [
        "if 조건1:\n",
        "    # 조건1이 참일 때 실행되는 코드\n",
        "elif 조건2:\n",
        "    # 조건1이 거짓이고, 조건2가 참일 때 실행되는 코드\n",
        "else:\n",
        "    # 위의 모든 조건이 거짓일 때 실행되는 코드"
      ],
      "metadata": {
        "id": "7VN1WsgaRVzY"
      },
      "execution_count": null,
      "outputs": []
    },
    {
      "cell_type": "markdown",
      "source": [
        "위의 구조를 사용하여 조건문을 작성할 수 있으며, 필요에 따라 `elif` 부분은 여러 개로 확장할 수 있습니다. 조건문은 프로그램의 로직을 조절하고 특정 조건에 따라 다른 동작을 수행할 때 유용하게 사용됩니다."
      ],
      "metadata": {
        "id": "qcrGsGP8RYQb"
      }
    },
    {
      "cell_type": "markdown",
      "source": [
        "# 7. 반복문 (for, while)\n",
        "\n",
        "\n",
        "파이썬에서는 `for`와 `while` 두 가지 종류의 반복문을 제공합니다. 이들을 사용하여 특정 조건이 충족될 때까지 코드를 반복적으로 실행할 수 있습니다.\n",
        "\n",
        "### 1. for 반복문\n",
        "`for` 반복문은 주로 시퀀스(리스트, 튜플, 문자열 등)의 각 요소를 순회하거나 특정 횟수만큼 반복할 때 사용됩니다."
      ],
      "metadata": {
        "id": "Q0Ee0i9bRo7E"
      }
    },
    {
      "cell_type": "code",
      "source": [
        "for 요소 in 시퀀스:\n",
        "    # 각 요소에 대해 실행되는 코드"
      ],
      "metadata": {
        "id": "M9bLnnWzRsrd"
      },
      "execution_count": null,
      "outputs": []
    },
    {
      "cell_type": "markdown",
      "source": [
        "예를 들어, 리스트의 각 요소를 순회하면서 출력하는 예제는 다음과 같습니다:"
      ],
      "metadata": {
        "id": "gcWgO7APRug_"
      }
    },
    {
      "cell_type": "code",
      "source": [
        "my_list = [1, 2, 3, 4, 5]\n",
        "for num in my_list:\n",
        "    print(num)"
      ],
      "metadata": {
        "id": "5pmxZU-DRwpq"
      },
      "execution_count": null,
      "outputs": []
    },
    {
      "cell_type": "markdown",
      "source": [
        "### 2. while 반복문\n",
        "`while` 반복문은 주어진 조건이 참(True)일 때 계속해서 코드를 반복 실행합니다."
      ],
      "metadata": {
        "id": "Xja9JmwQR68l"
      }
    },
    {
      "cell_type": "code",
      "source": [
        "while 조건:\n",
        "    # 조건이 참일 때 실행되는 코드"
      ],
      "metadata": {
        "id": "3bfmL5SFR9xb"
      },
      "execution_count": null,
      "outputs": []
    },
    {
      "cell_type": "markdown",
      "source": [
        "예를 들어, 1부터 5까지의 숫자를 출력하는 예제는 다음과 같습니다:"
      ],
      "metadata": {
        "id": "UnK-IM64SBai"
      }
    },
    {
      "cell_type": "code",
      "source": [
        "num = 1\n",
        "while num <= 5:\n",
        "    print(num)\n",
        "    num += 1"
      ],
      "metadata": {
        "id": "1efza_haSCeh"
      },
      "execution_count": null,
      "outputs": []
    },
    {
      "cell_type": "markdown",
      "source": [
        "`for` 반복문은 일반적으로 특정 횟수만큼 반복할 때 사용하고, `while` 반복문은 조건이 만족되는 동안 반복해야 할 때 사용합니다. 두 반복문을 적절히 조합하여 원하는 로직을 구현할 수 있습니다."
      ],
      "metadata": {
        "id": "lCqRwalQSD9F"
      }
    },
    {
      "cell_type": "markdown",
      "source": [
        "# 8. 함수 정의와 호출\n",
        "\n",
        "\n",
        "함수는 코드를 모듈화하고 재사용성을 높이는 데 사용됩니다. 파이썬에서 함수를 정의하고 호출하는 방법은 다음과 같습니다.\n",
        "\n",
        "함수 정의"
      ],
      "metadata": {
        "id": "0nZmYnwfSNKK"
      }
    },
    {
      "cell_type": "code",
      "source": [
        "def 함수이름(매개변수1, 매개변수2, ...):\n",
        "    # 함수의 기능을 구현하는 코드\n",
        "    return 반환값"
      ],
      "metadata": {
        "id": "n768bkYFSrGx"
      },
      "execution_count": null,
      "outputs": []
    },
    {
      "cell_type": "markdown",
      "source": [
        "- `def`: 함수를 정의하는 키워드입니다.\n",
        "- `함수이름`: 정의할 함수의 이름입니다.\n",
        "- `(매개변수1, 매개변수2, ...)`: 함수에 전달되는 매개변수들의 리스트입니다. 이 부분은 필요에 따라 생략될 수 있습니다.\n",
        "- `return`: 함수의 결과를 반환하는 키워드입니다. 함수에서 반환할 값이 없는 경우 `return`문은 생략될 수 있습니다.\n",
        "\n",
        "예를 들어, 두 수를 더하는 함수를 정의하는 예제는 다음과 같습니다:"
      ],
      "metadata": {
        "id": "BYj9Otf3Sutv"
      }
    },
    {
      "cell_type": "code",
      "source": [
        "def add(a, b):\n",
        "    return a + b"
      ],
      "metadata": {
        "id": "ak0Ca-2nS0dK"
      },
      "execution_count": null,
      "outputs": []
    },
    {
      "cell_type": "markdown",
      "source": [
        "### 함수 호출"
      ],
      "metadata": {
        "id": "7Fk4Sa9mS2V0"
      }
    },
    {
      "cell_type": "code",
      "source": [
        "결과 = 함수이름(인자1, 인자2, ...)"
      ],
      "metadata": {
        "id": "6osMeQgiS4b6"
      },
      "execution_count": null,
      "outputs": []
    },
    {
      "cell_type": "markdown",
      "source": [
        "- `함수이름`: 호출할 함수의 이름입니다.\n",
        "- `(인자1, 인자2, ...)`: 함수에 전달되는 인자들의 리스트입니다. 함수 정의 시 정의한 매개변수에 해당하는 값을 전달합니다.\n",
        "\n",
        "위에서 정의한 `add` 함수를 호출하는 예제는 다음과 같습니다:"
      ],
      "metadata": {
        "id": "rC5Awq9tS64f"
      }
    },
    {
      "cell_type": "code",
      "source": [
        "result = add(3, 5)\n",
        "print(result)  # 출력 결과: 8"
      ],
      "metadata": {
        "id": "WWZSTaI3S8py"
      },
      "execution_count": null,
      "outputs": []
    },
    {
      "cell_type": "markdown",
      "source": [
        "함수를 호출할 때 전달되는 인자의 개수와 함수 정의 시 매개변수의 개수가 일치해야 합니다. 함수를 호출하면 함수 내의 코드가 실행되고, 반환값이 있다면 그 값을 반환하여 사용할 수 있습니다."
      ],
      "metadata": {
        "id": "dEix6z6DS_ha"
      }
    }
  ]
}